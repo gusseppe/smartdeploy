{
 "cells": [
  {
   "cell_type": "markdown",
   "id": "81651a62-8fc0-4faf-b31a-1b39c5da8779",
   "metadata": {},
   "source": [
    "## Model Serving"
   ]
  },
  {
   "cell_type": "markdown",
   "id": "c5d730ea-6996-4622-88fc-2d6615d1838a",
   "metadata": {},
   "source": [
    "### Init ray"
   ]
  },
  {
   "cell_type": "code",
   "execution_count": 1,
   "id": "d9cfa615-3e17-4f0c-b2ec-4e07f788b400",
   "metadata": {
    "tags": []
   },
   "outputs": [
    {
     "data": {
      "text/html": [
       "<div>\n",
       "    <div style=\"margin-left: 50px;display: flex;flex-direction: row;align-items: center\">\n",
       "        <h3 style=\"color: var(--jp-ui-font-color0)\">Ray</h3>\n",
       "        <svg version=\"1.1\" id=\"ray\" width=\"3em\" viewBox=\"0 0 144.5 144.6\" style=\"margin-left: 3em;margin-right: 3em\">\n",
       "            <g id=\"layer-1\">\n",
       "                <path fill=\"#00a2e9\" class=\"st0\" d=\"M97.3,77.2c-3.8-1.1-6.2,0.9-8.3,5.1c-3.5,6.8-9.9,9.9-17.4,9.6S58,88.1,54.8,81.2c-1.4-3-3-4-6.3-4.1\n",
       "                    c-5.6-0.1-9.9,0.1-13.1,6.4c-3.8,7.6-13.6,10.2-21.8,7.6C5.2,88.4-0.4,80.5,0,71.7c0.1-8.4,5.7-15.8,13.8-18.2\n",
       "                    c8.4-2.6,17.5,0.7,22.3,8c1.3,1.9,1.3,5.2,3.6,5.6c3.9,0.6,8,0.2,12,0.2c1.8,0,1.9-1.6,2.4-2.8c3.5-7.8,9.7-11.8,18-11.9\n",
       "                    c8.2-0.1,14.4,3.9,17.8,11.4c1.3,2.8,2.9,3.6,5.7,3.3c1-0.1,2,0.1,3,0c2.8-0.5,6.4,1.7,8.1-2.7s-2.3-5.5-4.1-7.5\n",
       "                    c-5.1-5.7-10.9-10.8-16.1-16.3C84,38,81.9,37.1,78,38.3C66.7,42,56.2,35.7,53,24.1C50.3,14,57.3,2.8,67.7,0.5\n",
       "                    C78.4-2,89,4.7,91.5,15.3c0.1,0.3,0.1,0.5,0.2,0.8c0.7,3.4,0.7,6.9-0.8,9.8c-1.7,3.2-0.8,5,1.5,7.2c6.7,6.5,13.3,13,19.8,19.7\n",
       "                    c1.8,1.8,3,2.1,5.5,1.2c9.1-3.4,17.9-0.6,23.4,7c4.8,6.9,4.6,16.1-0.4,22.9c-5.4,7.2-14.2,9.9-23.1,6.5c-2.3-0.9-3.5-0.6-5.1,1.1\n",
       "                    c-6.7,6.9-13.6,13.7-20.5,20.4c-1.8,1.8-2.5,3.2-1.4,5.9c3.5,8.7,0.3,18.6-7.7,23.6c-7.9,5-18.2,3.8-24.8-2.9\n",
       "                    c-6.4-6.4-7.4-16.2-2.5-24.3c4.9-7.8,14.5-11,23.1-7.8c3,1.1,4.7,0.5,6.9-1.7C91.7,98.4,98,92.3,104.2,86c1.6-1.6,4.1-2.7,2.6-6.2\n",
       "                    c-1.4-3.3-3.8-2.5-6.2-2.6C99.8,77.2,98.9,77.2,97.3,77.2z M72.1,29.7c5.5,0.1,9.9-4.3,10-9.8c0-0.1,0-0.2,0-0.3\n",
       "                    C81.8,14,77,9.8,71.5,10.2c-5,0.3-9,4.2-9.3,9.2c-0.2,5.5,4,10.1,9.5,10.3C71.8,29.7,72,29.7,72.1,29.7z M72.3,62.3\n",
       "                    c-5.4-0.1-9.9,4.2-10.1,9.7c0,0.2,0,0.3,0,0.5c0.2,5.4,4.5,9.7,9.9,10c5.1,0.1,9.9-4.7,10.1-9.8c0.2-5.5-4-10-9.5-10.3\n",
       "                    C72.6,62.3,72.4,62.3,72.3,62.3z M115,72.5c0.1,5.4,4.5,9.7,9.8,9.9c5.6-0.2,10-4.8,10-10.4c-0.2-5.4-4.6-9.7-10-9.7\n",
       "                    c-5.3-0.1-9.8,4.2-9.9,9.5C115,72.1,115,72.3,115,72.5z M19.5,62.3c-5.4,0.1-9.8,4.4-10,9.8c-0.1,5.1,5.2,10.4,10.2,10.3\n",
       "                    c5.6-0.2,10-4.9,9.8-10.5c-0.1-5.4-4.5-9.7-9.9-9.6C19.6,62.3,19.5,62.3,19.5,62.3z M71.8,134.6c5.9,0.2,10.3-3.9,10.4-9.6\n",
       "                    c0.5-5.5-3.6-10.4-9.1-10.8c-5.5-0.5-10.4,3.6-10.8,9.1c0,0.5,0,0.9,0,1.4c-0.2,5.3,4,9.8,9.3,10\n",
       "                    C71.6,134.6,71.7,134.6,71.8,134.6z\"/>\n",
       "            </g>\n",
       "        </svg>\n",
       "        <table>\n",
       "            <tr>\n",
       "                <td style=\"text-align: left\"><b>Python version:</b></td>\n",
       "                <td style=\"text-align: left\"><b>3.8.13</b></td>\n",
       "            </tr>\n",
       "            <tr>\n",
       "                <td style=\"text-align: left\"><b>Ray version:</b></td>\n",
       "                <td style=\"text-align: left\"><b> 2.2.0</b></td>\n",
       "            </tr>\n",
       "            <tr>\n",
       "    <td style=\"text-align: left\"><b>Dashboard:</b></td>\n",
       "    <td style=\"text-align: left\"><b><a href=\"http://172.21.0.5:8265\" target=\"_blank\">http://172.21.0.5:8265</a></b></td>\n",
       "</tr>\n",
       "\n",
       "        </table>\n",
       "    </div>\n",
       "</div>\n"
      ],
      "text/plain": [
       "ClientContext(dashboard_url='172.21.0.5:8265', python_version='3.8.13', ray_version='2.2.0', ray_commit='b6af0887ee5f2e460202133791ad941a41f15beb', protocol_version='2022-10-05', _num_clients=1, _context_to_restore=<ray.util.client._ClientContext object at 0x7f7af1fbb670>)"
      ]
     },
     "execution_count": 1,
     "metadata": {},
     "output_type": "execute_result"
    }
   ],
   "source": [
    "import ray\n",
    "from ray import serve\n",
    "\n",
    "# Initialize the cluster\n",
    "ray_head = \"ray-head\"\n",
    "ray.init(address=f'ray://{ray_head}:10001')"
   ]
  },
  {
   "cell_type": "markdown",
   "id": "cdb54b09-a431-4296-99da-22fd3cb9374e",
   "metadata": {},
   "source": [
    "### Start Application"
   ]
  },
  {
   "cell_type": "code",
   "execution_count": 2,
   "id": "82a2ffae-9460-411e-b312-01e807844b1a",
   "metadata": {
    "tags": []
   },
   "outputs": [
    {
     "name": "stderr",
     "output_type": "stream",
     "text": [
      "\u001b[2m\u001b[36m(ServeController pid=1781)\u001b[0m INFO 2024-01-28 08:30:26,342 controller 1781 http_state.py:129 - Starting HTTP proxy with name 'SERVE_CONTROLLER_ACTOR:yZODkb:SERVE_PROXY_ACTOR-e20552446d9268018fcb0afaf6b674f46394178c0b97c6e0e6048a4a' on node 'e20552446d9268018fcb0afaf6b674f46394178c0b97c6e0e6048a4a' listening on '0.0.0.0:5010'\n"
     ]
    },
    {
     "data": {
      "text/plain": [
       "<ray.serve._private.client.ServeControllerClient at 0x7f7ae0de6130>"
      ]
     },
     "execution_count": 2,
     "metadata": {},
     "output_type": "execute_result"
    }
   ],
   "source": [
    "# Start the app\n",
    "serve.start(detached=False, http_options={'host':\"0.0.0.0\", 'port':5010})\n",
    "# serve.start(detached=True, http_options={'host':\"0.0.0.0\", 'port':5010})"
   ]
  },
  {
   "cell_type": "markdown",
   "id": "b5b1e642-56fe-4d0a-9727-569784966e21",
   "metadata": {},
   "source": [
    "### Pipeline"
   ]
  },
  {
   "cell_type": "code",
   "execution_count": 3,
   "id": "5c4bcc12-6a6d-4392-b92b-e9c54cbfa8e4",
   "metadata": {
    "tags": []
   },
   "outputs": [
    {
     "name": "stderr",
     "output_type": "stream",
     "text": [
      "\u001b[2m\u001b[36m(HTTPProxyActor pid=1845)\u001b[0m INFO:     Started server process [1845]\n",
      "The new client HTTP config differs from the existing one in the following fields: ['host', 'port', 'location']. The new HTTP config is ignored.\n",
      "\u001b[2m\u001b[36m(ServeController pid=1781)\u001b[0m INFO 2024-01-28 08:30:28,244 controller 1781 deployment_state.py:1310 - Adding 1 replica to deployment 'LeafDeployment'.\n"
     ]
    },
    {
     "data": {
      "text/plain": [
       "RayServeSyncHandle(deployment='LeafDeployment')"
      ]
     },
     "execution_count": 3,
     "metadata": {},
     "output_type": "execute_result"
    },
    {
     "name": "stderr",
     "output_type": "stream",
     "text": [
      "\u001b[2m\u001b[36m(HTTPProxyActor pid=1845)\u001b[0m INFO 2024-01-28 08:30:35,025 http_proxy 172.21.0.5 http_proxy.py:361 - GET / 200 7.1ms\n",
      "\u001b[2m\u001b[36m(ServeReplica:LeafDeployment pid=1926)\u001b[0m INFO 2024-01-28 08:30:35,022 LeafDeployment LeafDeployment#COWEaJ replica.py:505 - HANDLE __call__ OK 0.5ms\n",
      "\u001b[2m\u001b[36m(HTTPProxyActor pid=1845)\u001b[0m INFO 2024-01-28 08:30:35,616 http_proxy 172.21.0.5 http_proxy.py:361 - GET / 200 16.9ms\n",
      "\u001b[2m\u001b[36m(ServeReplica:LeafDeployment pid=1926)\u001b[0m INFO 2024-01-28 08:30:35,612 LeafDeployment LeafDeployment#COWEaJ replica.py:505 - HANDLE __call__ OK 10.6ms\n",
      "\u001b[2m\u001b[36m(HTTPProxyActor pid=1845)\u001b[0m INFO 2024-01-28 08:31:11,934 http_proxy 172.21.0.5 http_proxy.py:361 - POST / 200 519.3ms\n",
      "\u001b[2m\u001b[36m(ServeReplica:LeafDeployment pid=1926)\u001b[0m INFO 2024-01-28 08:31:11,912 LeafDeployment LeafDeployment#COWEaJ replica.py:505 - HANDLE __call__ OK 495.0ms\n"
     ]
    }
   ],
   "source": [
    "import mlflow\n",
    "import pandas as pd\n",
    "\n",
    "from fastapi import FastAPI, Query\n",
    "from pydantic import BaseModel#, Field\n",
    "from fastapi.responses import HTMLResponse\n",
    "from fastapi.responses import RedirectResponse\n",
    "\n",
    "\n",
    "example_values = {\n",
    "    \"specimen_number\": 1,\n",
    "    \"eccentricity\": 0.86224,\n",
    "    \"aspect_ratio\": 2.0735,\n",
    "    \"elongation\": 0.52269,\n",
    "    \"solidity\": 0.98686,\n",
    "    \"stochastic_convexity\": 0.99474,\n",
    "    \"isoperimetric_factor\": 0.70529,\n",
    "    \"maximal_indentation_depth\": 0.010097,\n",
    "    \"lobedness\": 0.018554,\n",
    "    \"average_intensity\": 0.041404,\n",
    "    \"average_contrast\": 0.12163,\n",
    "    \"smoothness\": 0.014579,\n",
    "    \"third_moment\": 0.0048689,\n",
    "    \"uniformity\": 0.00027608,\n",
    "    \"entropy\": 0.9458\n",
    "}\n",
    "\n",
    "class Input(BaseModel):\n",
    "    specimen_number: float = Query(..., gt=0, example=example_values['specimen_number'])\n",
    "    eccentricity: float = Query(..., gt=0, example=example_values['eccentricity'])\n",
    "    aspect_ratio: float = Query(..., gt=0, example=example_values['aspect_ratio'])\n",
    "    elongation: float = Query(..., gt=0, example=example_values['elongation'])\n",
    "    solidity: float = Query(..., gt=0, example=example_values['solidity'])\n",
    "    stochastic_convexity: float = Query(..., gt=0, example=example_values['stochastic_convexity'])\n",
    "    isoperimetric_factor: float = Query(..., gt=0, example=example_values['isoperimetric_factor'])\n",
    "    maximal_indentation_depth: float = Query(..., gt=0, example=example_values['maximal_indentation_depth'])\n",
    "    lobedness: float = Query(..., gt=0, example=example_values['lobedness'])\n",
    "    average_intensity: float = Query(..., gt=0, example=example_values['average_intensity'])\n",
    "    average_contrast: float = Query(..., gt=0, example=example_values['average_contrast'])\n",
    "    smoothness: float = Query(..., gt=0, example=example_values['smoothness'])\n",
    "    third_moment: float = Query(..., gt=0, example=example_values['third_moment'])\n",
    "    uniformity: float = Query(..., gt=0, example=example_values['uniformity'])\n",
    "    entropy: float = Query(..., gt=0, example=example_values['entropy'])\n",
    "\n",
    "    class Config:\n",
    "        schema_extra = {\n",
    "            \"example\": example_values\n",
    "        }\n",
    "\n",
    "\n",
    "app = FastAPI(title='Predictor API',\n",
    "              description='Pipeline online inference')\n",
    "\n",
    "\n",
    "@serve.deployment()\n",
    "@serve.ingress(app)\n",
    "# @serve.deployment()\n",
    "class LeafDeployment:\n",
    "    def __init__(self):\n",
    "        \n",
    "        # Inicializa los modelos. Los carga desde el MLflow.\n",
    "        model_name = \"extratree\"\n",
    "        model_stage = \"1\"\n",
    "        self.predictor = mlflow.sklearn.load_model(\n",
    "                                model_uri=f\"models:/{model_name}/{model_stage}\")\n",
    "\n",
    "    # Aqui van los metodos que tenga tu pipeline\n",
    "    def preprocessing(self, df):\n",
    "        with mlflow.start_run(run_name='preprocessing') as mlrun:\n",
    "            df_cleaned = df.loc[:, df.columns != 'specimen_number'].copy()\n",
    "            df_cleaned[df_cleaned.columns] = df_cleaned[df_cleaned.columns].astype(float)\n",
    "            df_cleaned.to_csv('preprocessed_data.csv', index=False)\n",
    "            mlflow.log_artifact('preprocessed_data.csv')\n",
    "\n",
    "            # logging\n",
    "            mlflow.log_param(key='n_samples', value=len(df_cleaned))\n",
    "            mlflow.log_param(key='n_features', value=len(df_cleaned.columns))\n",
    "\n",
    "            return df_cleaned\n",
    "\n",
    "    @app.get('/', include_in_schema=False)\n",
    "    async def docs_redirect(self):\n",
    "        return RedirectResponse(url='/docs')\n",
    "\n",
    "    @app.post(\"/predict\",\n",
    "         tags=['Production model'],\n",
    "         summary=\"Usar el modelo de produccion\")\n",
    "    def call(self, request: Input):\n",
    "\n",
    "        data = request.__dict__\n",
    "        data = pd.json_normalize(data)\n",
    "        preprocessed = self.preprocessing(data)\n",
    "        result = self.predictor.predict(preprocessed)\n",
    "\n",
    "        return result\n",
    "\n",
    "\n",
    "# LeafDeployment.deploy()\n",
    "serve.run(LeafDeployment.bind())"
   ]
  },
  {
   "cell_type": "markdown",
   "id": "60d5df26-950f-4b5d-bd42-aa1a60a901d6",
   "metadata": {},
   "source": [
    "Visit http://localhost:5010/docs"
   ]
  },
  {
   "attachments": {
    "014b3805-043b-48e4-a66b-a019470b4fb1.png": {
     "image/png": "[encoded data removed]"
    }
   },
   "cell_type": "markdown",
   "id": "0145dc1a-ddbc-4e22-af8b-2eff95619613",
   "metadata": {},
   "source": [
    "![image.png](attachment:014b3805-043b-48e4-a66b-a019470b4fb1.png)"
   ]
  },
  {
   "cell_type": "markdown",
   "id": "f1f28a8c-ab35-4462-9194-c06ea32237c4",
   "metadata": {},
   "source": [
    "# Cliente"
   ]
  },
  {
   "cell_type": "code",
   "execution_count": 8,
   "id": "87c82b1c-f4fc-476d-a4e4-4ec805054ad4",
   "metadata": {
    "tags": []
   },
   "outputs": [
    {
     "data": {
      "text/plain": [
       "[{'specimen_number': 1,\n",
       "  'eccentricity': 0.86224,\n",
       "  'aspect_ratio': 2.0735,\n",
       "  'elongation': 0.52269,\n",
       "  'solidity': 0.98686,\n",
       "  'stochastic_convexity': 0.99474,\n",
       "  'isoperimetric_factor': 0.70529,\n",
       "  'maximal_indentation_depth': 0.010097,\n",
       "  'lobedness': 0.018554,\n",
       "  'average_intensity': 0.041404,\n",
       "  'average_contrast': 0.12163,\n",
       "  'smoothness': 0.014579,\n",
       "  'third_moment': 0.0048689,\n",
       "  'uniformity': 0.00027608,\n",
       "  'entropy': 0.9458}]"
      ]
     },
     "execution_count": 8,
     "metadata": {},
     "output_type": "execute_result"
    }
   ],
   "source": [
    "import pandas as pd\n",
    "import requests\n",
    "\n",
    "filename = \"X_inference.csv\"\n",
    "df = pd.read_csv(filename)\n",
    "request = df.head(1).to_dict('records')\n",
    "request"
   ]
  },
  {
   "cell_type": "code",
   "execution_count": 9,
   "id": "a29e26d1-1ecb-46b6-b283-44abc854c458",
   "metadata": {
    "tags": []
   },
   "outputs": [
    {
     "data": {
      "text/plain": [
       "32"
      ]
     },
     "execution_count": 9,
     "metadata": {},
     "output_type": "execute_result"
    },
    {
     "name": "stderr",
     "output_type": "stream",
     "text": [
      "\u001b[2m\u001b[36m(HTTPProxyActor pid=1537)\u001b[0m INFO 2023-12-13 21:12:00,051 http_proxy 172.18.0.4 http_proxy.py:361 - POST / 200 530.3ms\n",
      "\u001b[2m\u001b[36m(ServeReplica:LeafDeployment pid=1619)\u001b[0m INFO 2023-12-13 21:12:00,049 LeafDeployment LeafDeployment#shwKgR replica.py:505 - HANDLE __call__ OK 526.1ms\n"
     ]
    }
   ],
   "source": [
    "response = requests.post(\"http://ray-head:5010/predict\", json=request[0])\n",
    "result = response.json()[0]\n",
    "result"
   ]
  }
 ],
 "metadata": {
  "kernelspec": {
   "display_name": "Python 3 (ipykernel)",
   "language": "python",
   "name": "python3"
  },
  "language_info": {
   "codemirror_mode": {
    "name": "ipython",
    "version": 3
   },
   "file_extension": ".py",
   "mimetype": "text/x-python",
   "name": "python",
   "nbconvert_exporter": "python",
   "pygments_lexer": "ipython3",
   "version": "3.8.13"
  }
 },
 "nbformat": 4,
 "nbformat_minor": 5
}
