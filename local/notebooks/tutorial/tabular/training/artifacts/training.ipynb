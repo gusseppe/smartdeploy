{
 "cells": [
  {
   "cell_type": "markdown",
   "id": "e2af0738-9acb-48e5-aa14-06c492c7ea0c",
   "metadata": {
    "papermill": {
     "duration": 0.002699,
     "end_time": "2024-01-08T16:11:34.004564",
     "exception": false,
     "start_time": "2024-01-08T16:11:34.001865",
     "status": "completed"
    },
    "tags": []
   },
   "source": [
    "## Entrenamiento\n",
    "\n",
    "Entrenar el modelo usando la data preprocesada"
   ]
  },
  {
   "cell_type": "code",
   "execution_count": 1,
   "id": "6da777a8-af37-4aaf-93bd-d497bd8c3408",
   "metadata": {
    "execution": {
     "iopub.execute_input": "2024-01-08T16:11:34.010628Z",
     "iopub.status.busy": "2024-01-08T16:11:34.010188Z",
     "iopub.status.idle": "2024-01-08T16:11:34.895585Z",
     "shell.execute_reply": "2024-01-08T16:11:34.894783Z"
    },
    "papermill": {
     "duration": 0.890639,
     "end_time": "2024-01-08T16:11:34.897496",
     "exception": false,
     "start_time": "2024-01-08T16:11:34.006857",
     "status": "completed"
    },
    "tags": []
   },
   "outputs": [],
   "source": [
    "import mlflow\n",
    "import numpy as np\n",
    "import pandas as pd\n",
    "\n",
    "from sklearn.ensemble import ExtraTreesClassifier\n",
    "from mlflow.models.signature import infer_signature\n",
    "\n",
    "\n",
    "def training(n_estimators=10, random_state=42):\n",
    "    with mlflow.start_run(run_name='training') as mlrun:\n",
    "        np.random.seed(random_state)\n",
    "        X_train = pd.read_csv(\"X_train.csv\")\n",
    "        X_test = pd.read_csv(\"X_test.csv\")\n",
    "        y_train = pd.read_csv(\"y_train.csv\")\n",
    "        y_test = pd.read_csv(\"y_test.csv\")\n",
    "\n",
    "        model = ExtraTreesClassifier(n_estimators=n_estimators, n_jobs=-1)\n",
    "\n",
    "        mlflow.log_param(key='n_estimators_model', value=n_estimators)\n",
    "        mlflow.log_param(key='random_state_model', value=random_state)\n",
    "\n",
    "        # evaluate pipeline on test dataset\n",
    "        model.fit(X_train, y_train.values.ravel())\n",
    "        test_acc = model.score(X_test, y_test.values.ravel())\n",
    "        mlflow.log_metric(\"test_acc\", round(test_acc, 3))\n",
    "        \n",
    "        print(f'Accuracy: {round(test_acc, 3)}')\n",
    "\n",
    "        model_name = \"extratree\"\n",
    "        signature = infer_signature(X_train, model.predict(X_train))\n",
    "        mlflow.sklearn.log_model(model, artifact_path=model_name, \n",
    "                                 signature=signature, \n",
    "                                 registered_model_name=model_name)"
   ]
  },
  {
   "cell_type": "code",
   "execution_count": 2,
   "id": "85c03c36-6c81-4c77-8907-2d1c5b0365ca",
   "metadata": {
    "execution": {
     "iopub.execute_input": "2024-01-08T16:11:34.904107Z",
     "iopub.status.busy": "2024-01-08T16:11:34.903545Z",
     "iopub.status.idle": "2024-01-08T16:11:37.767758Z",
     "shell.execute_reply": "2024-01-08T16:11:37.767042Z"
    },
    "papermill": {
     "duration": 2.869158,
     "end_time": "2024-01-08T16:11:37.769113",
     "exception": false,
     "start_time": "2024-01-08T16:11:34.899955",
     "status": "completed"
    },
    "tags": []
   },
   "outputs": [
    {
     "name": "stdout",
     "output_type": "stream",
     "text": [
      "Accuracy: 0.75\n"
     ]
    },
    {
     "name": "stderr",
     "output_type": "stream",
     "text": [
      "/opt/conda/lib/python3.8/site-packages/_distutils_hack/__init__.py:33: UserWarning: Setuptools is replacing distutils.\n",
      "  warnings.warn(\"Setuptools is replacing distutils.\")\n",
      "Successfully registered model 'extratree'.\n",
      "2024/01/08 16:11:37 INFO mlflow.tracking._model_registry.client: Waiting up to 300 seconds for model version to finish creation.                     Model name: extratree, version 1\n",
      "Created version '1' of model 'extratree'.\n"
     ]
    }
   ],
   "source": [
    "training(n_estimators=50)"
   ]
  },
  {
   "cell_type": "markdown",
   "id": "442d11cc-7670-4573-9d4f-2d28565bf69a",
   "metadata": {
    "papermill": {
     "duration": 0.002407,
     "end_time": "2024-01-08T16:11:37.774120",
     "exception": false,
     "start_time": "2024-01-08T16:11:37.771713",
     "status": "completed"
    },
    "tags": []
   },
   "source": [
    "## Training custom"
   ]
  },
  {
   "cell_type": "code",
   "execution_count": 1,
   "id": "a28cef6f-30a2-4e08-9dbe-44667e1f2e4b",
   "metadata": {
    "tags": []
   },
   "outputs": [
    {
     "name": "stdout",
     "output_type": "stream",
     "text": [
      "Accuracy: 0.706\n"
     ]
    },
    {
     "name": "stderr",
     "output_type": "stream",
     "text": [
      "/opt/conda/lib/python3.8/site-packages/_distutils_hack/__init__.py:33: UserWarning: Setuptools is replacing distutils.\n",
      "  warnings.warn(\"Setuptools is replacing distutils.\")\n",
      "Successfully registered model 'extratree_with_preprocessing'.\n",
      "2024/11/13 05:21:54 INFO mlflow.tracking._model_registry.client: Waiting up to 300 seconds for model version to finish creation.                     Model name: extratree_with_preprocessing, version 1\n",
      "Created version '1' of model 'extratree_with_preprocessing'.\n"
     ]
    }
   ],
   "source": [
    "import mlflow\n",
    "import numpy as np\n",
    "import pandas as pd\n",
    "from sklearn.ensemble import ExtraTreesClassifier\n",
    "from mlflow.models.signature import infer_signature\n",
    "import mlflow.pyfunc\n",
    "\n",
    "# Clase de modelo personalizada con preprocesamiento\n",
    "class ExtraTreeModelWithPreprocessing(mlflow.pyfunc.PythonModel):\n",
    "    def __init__(self, model, preprocessing_steps):\n",
    "        self.model = model\n",
    "        self.preprocessing_steps = preprocessing_steps\n",
    "\n",
    "    def preprocess(self, input_data):\n",
    "        # Aplica los pasos de preprocesamiento definidos en preprocessing_steps\n",
    "        # Ejemplo: preprocessing_steps es una función que procesa input_data\n",
    "        processed_data = self.preprocessing_steps(input_data)\n",
    "        return processed_data\n",
    "\n",
    "    def predict(self, context, model_input):\n",
    "        # Aplica el preprocesamiento\n",
    "        processed_input = self.preprocess(model_input)\n",
    "        # Realiza la predicción con los datos preprocesados\n",
    "        return self.model.predict(processed_input)\n",
    "\n",
    "# Definir función de preprocesamiento (ejemplo)\n",
    "def example_preprocessing_steps(input_data):\n",
    "    # Añade aquí tus pasos de preprocesamiento (e.g., escalado, ingeniería de características)\n",
    "    # En este ejemplo, input_data es un DataFrame de pandas\n",
    "    # Este es un ejemplo, se pueden agregar pasos reales según sea necesario\n",
    "    return input_data\n",
    "\n",
    "def training(n_estimators=10, random_state=42):\n",
    "    with mlflow.start_run(run_name='training') as mlrun:\n",
    "        np.random.seed(random_state)\n",
    "        X_train = pd.read_csv(\"X_train.csv\")\n",
    "        X_test = pd.read_csv(\"X_test.csv\")\n",
    "        y_train = pd.read_csv(\"y_train.csv\")\n",
    "        y_test = pd.read_csv(\"y_test.csv\")\n",
    "\n",
    "        model = ExtraTreesClassifier(n_estimators=n_estimators, n_jobs=-1)\n",
    "        model.fit(X_train, y_train.values.ravel())\n",
    "        \n",
    "        # Evaluar el modelo\n",
    "        test_acc = model.score(X_test, y_test.values.ravel())\n",
    "        mlflow.log_metric(\"test_acc\", round(test_acc, 3))\n",
    "        print(f'Accuracy: {round(test_acc, 3)}')\n",
    "        \n",
    "        # Registrar parámetros\n",
    "        mlflow.log_param(key='n_estimators_model', value=n_estimators)\n",
    "        mlflow.log_param(key='random_state_model', value=random_state)\n",
    "\n",
    "        # Crear y registrar el modelo personalizado con preprocesamiento\n",
    "        custom_model = ExtraTreeModelWithPreprocessing(model, example_preprocessing_steps)\n",
    "        signature = infer_signature(X_train, model.predict(X_train))\n",
    "        \n",
    "        mlflow.pyfunc.log_model(\n",
    "            artifact_path=\"extratree_with_preprocessing\",\n",
    "            python_model=custom_model,\n",
    "            signature=signature,\n",
    "            registered_model_name=\"extratree_with_preprocessing\"\n",
    "        )\n",
    "\n",
    "# Ejecutar la función de entrenamiento para guardar el modelo con preprocesamiento\n",
    "training()\n"
   ]
  }
 ],
 "metadata": {
  "kernelspec": {
   "display_name": "Python 3 (ipykernel)",
   "language": "python",
   "name": "python3"
  },
  "language_info": {
   "codemirror_mode": {
    "name": "ipython",
    "version": 3
   },
   "file_extension": ".py",
   "mimetype": "text/x-python",
   "name": "python",
   "nbconvert_exporter": "python",
   "pygments_lexer": "ipython3",
   "version": "3.8.13"
  },
  "papermill": {
   "default_parameters": {},
   "duration": 5.263297,
   "end_time": "2024-01-08T16:11:38.394158",
   "environment_variables": {},
   "exception": null,
   "input_path": "/home/jovyan/tutorial/tabular/training/artifacts/training.ipynb",
   "output_path": "/home/jovyan/tutorial/tabular/training/artifacts/training.ipynb",
   "parameters": {},
   "start_time": "2024-01-08T16:11:33.130861",
   "version": "2.3.4"
  },
  "widgets": {
   "application/vnd.jupyter.widget-state+json": {
    "state": {
     "7bed244c6d784e33ae379d63a991144b": {
      "model_module": "@jupyter-widgets/controls",
      "model_module_version": "1.5.0",
      "model_name": "DescriptionStyleModel",
      "state": {
       "_model_module": "@jupyter-widgets/controls",
       "_model_module_version": "1.5.0",
       "_model_name": "DescriptionStyleModel",
       "_view_count": null,
       "_view_module": "@jupyter-widgets/base",
       "_view_module_version": "1.2.0",
       "_view_name": "StyleView",
       "description_width": ""
      }
     },
     "8091593cf82546e6b62c0b04f1886ff7": {
      "model_module": "@jupyter-widgets/base",
      "model_module_version": "1.2.0",
      "model_name": "LayoutModel",
      "state": {
       "_model_module": "@jupyter-widgets/base",
       "_model_module_version": "1.2.0",
       "_model_name": "LayoutModel",
       "_view_count": null,
       "_view_module": "@jupyter-widgets/base",
       "_view_module_version": "1.2.0",
       "_view_name": "LayoutView",
       "align_content": null,
       "align_items": null,
       "align_self": null,
       "border": null,
       "bottom": null,
       "display": null,
       "flex": null,
       "flex_flow": null,
       "grid_area": null,
       "grid_auto_columns": null,
       "grid_auto_flow": null,
       "grid_auto_rows": null,
       "grid_column": null,
       "grid_gap": null,
       "grid_row": null,
       "grid_template_areas": null,
       "grid_template_columns": null,
       "grid_template_rows": null,
       "height": null,
       "justify_content": null,
       "justify_items": null,
       "left": null,
       "margin": null,
       "max_height": null,
       "max_width": null,
       "min_height": null,
       "min_width": null,
       "object_fit": null,
       "object_position": null,
       "order": null,
       "overflow": null,
       "overflow_x": null,
       "overflow_y": null,
       "padding": null,
       "right": null,
       "top": null,
       "visibility": null,
       "width": null
      }
     },
     "8967925e98ff4ab89c36d2582dfa1cca": {
      "model_module": "@jupyter-widgets/controls",
      "model_module_version": "1.5.0",
      "model_name": "HTMLModel",
      "state": {
       "_dom_classes": [],
       "_model_module": "@jupyter-widgets/controls",
       "_model_module_version": "1.5.0",
       "_model_name": "HTMLModel",
       "_view_count": null,
       "_view_module": "@jupyter-widgets/controls",
       "_view_module_version": "1.5.0",
       "_view_name": "HTMLView",
       "description": "",
       "description_tooltip": null,
       "layout": "IPY_MODEL_f71cc52650174f65aafeec41472ebfee",
       "placeholder": "​",
       "style": "IPY_MODEL_c835e09bfa1641f9b354f355d39da356",
       "value": "Single Dataset Integrity Suite: 100%"
      }
     },
     "c835e09bfa1641f9b354f355d39da356": {
      "model_module": "@jupyter-widgets/controls",
      "model_module_version": "1.5.0",
      "model_name": "DescriptionStyleModel",
      "state": {
       "_model_module": "@jupyter-widgets/controls",
       "_model_module_version": "1.5.0",
       "_model_name": "DescriptionStyleModel",
       "_view_count": null,
       "_view_module": "@jupyter-widgets/base",
       "_view_module_version": "1.2.0",
       "_view_name": "StyleView",
       "description_width": ""
      }
     },
     "c8720071d1864ac0b52776a6371d9162": {
      "model_module": "@jupyter-widgets/controls",
      "model_module_version": "1.5.0",
      "model_name": "HTMLModel",
      "state": {
       "_dom_classes": [],
       "_model_module": "@jupyter-widgets/controls",
       "_model_module_version": "1.5.0",
       "_model_name": "HTMLModel",
       "_view_count": null,
       "_view_module": "@jupyter-widgets/controls",
       "_view_module_version": "1.5.0",
       "_view_name": "HTMLView",
       "description": "",
       "description_tooltip": null,
       "layout": "IPY_MODEL_d295af09a4d74b22bb4e6afb4a7270d6",
       "placeholder": "​",
       "style": "IPY_MODEL_7bed244c6d784e33ae379d63a991144b",
       "value": " 9/9 [00:00&lt;00:00, 87.64 Check/s, Check=Outlier Sample Detection]"
      }
     },
     "cc7d83a8a06e46308afe3ee4a15189f7": {
      "model_module": "@jupyter-widgets/controls",
      "model_module_version": "1.5.0",
      "model_name": "HBoxModel",
      "state": {
       "_dom_classes": [],
       "_model_module": "@jupyter-widgets/controls",
       "_model_module_version": "1.5.0",
       "_model_name": "HBoxModel",
       "_view_count": null,
       "_view_module": "@jupyter-widgets/controls",
       "_view_module_version": "1.5.0",
       "_view_name": "HBoxView",
       "box_style": "",
       "children": [
        "IPY_MODEL_8967925e98ff4ab89c36d2582dfa1cca",
        "IPY_MODEL_da641388ab7e4a9dbddd10f1e80a6131",
        "IPY_MODEL_c8720071d1864ac0b52776a6371d9162"
       ],
       "layout": "IPY_MODEL_8091593cf82546e6b62c0b04f1886ff7"
      }
     },
     "d295af09a4d74b22bb4e6afb4a7270d6": {
      "model_module": "@jupyter-widgets/base",
      "model_module_version": "1.2.0",
      "model_name": "LayoutModel",
      "state": {
       "_model_module": "@jupyter-widgets/base",
       "_model_module_version": "1.2.0",
       "_model_name": "LayoutModel",
       "_view_count": null,
       "_view_module": "@jupyter-widgets/base",
       "_view_module_version": "1.2.0",
       "_view_name": "LayoutView",
       "align_content": null,
       "align_items": null,
       "align_self": null,
       "border": null,
       "bottom": null,
       "display": null,
       "flex": null,
       "flex_flow": null,
       "grid_area": null,
       "grid_auto_columns": null,
       "grid_auto_flow": null,
       "grid_auto_rows": null,
       "grid_column": null,
       "grid_gap": null,
       "grid_row": null,
       "grid_template_areas": null,
       "grid_template_columns": null,
       "grid_template_rows": null,
       "height": null,
       "justify_content": null,
       "justify_items": null,
       "left": null,
       "margin": null,
       "max_height": null,
       "max_width": null,
       "min_height": null,
       "min_width": null,
       "object_fit": null,
       "object_position": null,
       "order": null,
       "overflow": null,
       "overflow_x": null,
       "overflow_y": null,
       "padding": null,
       "right": null,
       "top": null,
       "visibility": null,
       "width": null
      }
     },
     "da641388ab7e4a9dbddd10f1e80a6131": {
      "model_module": "@jupyter-widgets/controls",
      "model_module_version": "1.5.0",
      "model_name": "FloatProgressModel",
      "state": {
       "_dom_classes": [],
       "_model_module": "@jupyter-widgets/controls",
       "_model_module_version": "1.5.0",
       "_model_name": "FloatProgressModel",
       "_view_count": null,
       "_view_module": "@jupyter-widgets/controls",
       "_view_module_version": "1.5.0",
       "_view_name": "ProgressView",
       "bar_style": "",
       "description": "",
       "description_tooltip": null,
       "layout": "IPY_MODEL_f0e909723a0c4a4ba58cef51c58336d3",
       "max": 9,
       "min": 0,
       "orientation": "horizontal",
       "style": "IPY_MODEL_f7485c5e87794d8c9a5621843769a037",
       "value": 9
      }
     },
     "f0e909723a0c4a4ba58cef51c58336d3": {
      "model_module": "@jupyter-widgets/base",
      "model_module_version": "1.2.0",
      "model_name": "LayoutModel",
      "state": {
       "_model_module": "@jupyter-widgets/base",
       "_model_module_version": "1.2.0",
       "_model_name": "LayoutModel",
       "_view_count": null,
       "_view_module": "@jupyter-widgets/base",
       "_view_module_version": "1.2.0",
       "_view_name": "LayoutView",
       "align_content": null,
       "align_items": null,
       "align_self": null,
       "border": null,
       "bottom": null,
       "display": null,
       "flex": null,
       "flex_flow": null,
       "grid_area": null,
       "grid_auto_columns": null,
       "grid_auto_flow": null,
       "grid_auto_rows": null,
       "grid_column": null,
       "grid_gap": null,
       "grid_row": null,
       "grid_template_areas": null,
       "grid_template_columns": null,
       "grid_template_rows": null,
       "height": null,
       "justify_content": null,
       "justify_items": null,
       "left": null,
       "margin": null,
       "max_height": null,
       "max_width": null,
       "min_height": null,
       "min_width": null,
       "object_fit": null,
       "object_position": null,
       "order": null,
       "overflow": null,
       "overflow_x": null,
       "overflow_y": null,
       "padding": null,
       "right": null,
       "top": null,
       "visibility": null,
       "width": null
      }
     },
     "f71cc52650174f65aafeec41472ebfee": {
      "model_module": "@jupyter-widgets/base",
      "model_module_version": "1.2.0",
      "model_name": "LayoutModel",
      "state": {
       "_model_module": "@jupyter-widgets/base",
       "_model_module_version": "1.2.0",
       "_model_name": "LayoutModel",
       "_view_count": null,
       "_view_module": "@jupyter-widgets/base",
       "_view_module_version": "1.2.0",
       "_view_name": "LayoutView",
       "align_content": null,
       "align_items": null,
       "align_self": null,
       "border": null,
       "bottom": null,
       "display": null,
       "flex": null,
       "flex_flow": null,
       "grid_area": null,
       "grid_auto_columns": null,
       "grid_auto_flow": null,
       "grid_auto_rows": null,
       "grid_column": null,
       "grid_gap": null,
       "grid_row": null,
       "grid_template_areas": null,
       "grid_template_columns": null,
       "grid_template_rows": null,
       "height": null,
       "justify_content": null,
       "justify_items": null,
       "left": null,
       "margin": null,
       "max_height": null,
       "max_width": null,
       "min_height": null,
       "min_width": null,
       "object_fit": null,
       "object_position": null,
       "order": null,
       "overflow": null,
       "overflow_x": null,
       "overflow_y": null,
       "padding": null,
       "right": null,
       "top": null,
       "visibility": null,
       "width": null
      }
     },
     "f7485c5e87794d8c9a5621843769a037": {
      "model_module": "@jupyter-widgets/controls",
      "model_module_version": "1.5.0",
      "model_name": "ProgressStyleModel",
      "state": {
       "_model_module": "@jupyter-widgets/controls",
       "_model_module_version": "1.5.0",
       "_model_name": "ProgressStyleModel",
       "_view_count": null,
       "_view_module": "@jupyter-widgets/base",
       "_view_module_version": "1.2.0",
       "_view_name": "StyleView",
       "bar_color": "#9d60fb",
       "description_width": ""
      }
     }
    },
    "version_major": 2,
    "version_minor": 0
   }
  }
 },
 "nbformat": 4,
 "nbformat_minor": 5
}
